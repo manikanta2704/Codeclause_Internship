{
  "cells": [
    {
      "cell_type": "code",
      "execution_count": null,
      "metadata": {
        "colab": {
          "background_save": true
        },
        "id": "bTy4CFw4pJ0Q"
      },
      "outputs": [],
      "source": [
        "#Importing required libraries\n",
        "import numpy as np\n",
        "import pandas as pd\n",
        "from sklearn import preprocessing\n",
        "import warnings\n",
        "warnings.filterwarnings(\"ignore\")"
      ]
    },
    {
      "cell_type": "code",
      "execution_count": null,
      "metadata": {
        "colab": {
          "background_save": true
        },
        "id": "X0LTnMT_pKWN"
      },
      "outputs": [],
      "source": [
        "# Loading the data set\n",
        "data = pd.read_csv(\"creditcard.csv\")\n"
      ]
    },
    {
      "cell_type": "code",
      "execution_count": null,
      "metadata": {
        "colab": {
          "background_save": true,
          "base_uri": "https://localhost:8080/",
          "height": 300
        },
        "id": "Jhhda0cDpNPV",
        "outputId": "e1cc4499-749a-4ab5-fae9-ea67b0757d88"
      },
      "outputs": [
        {
          "data": {
            "text/html": [
              "\n",
              "  <div id=\"df-dbf9fcd6-b2fd-4fd5-89a2-a6003f513b98\">\n",
              "    <div class=\"colab-df-container\">\n",
              "      <div>\n",
              "<style scoped>\n",
              "    .dataframe tbody tr th:only-of-type {\n",
              "        vertical-align: middle;\n",
              "    }\n",
              "\n",
              "    .dataframe tbody tr th {\n",
              "        vertical-align: top;\n",
              "    }\n",
              "\n",
              "    .dataframe thead th {\n",
              "        text-align: right;\n",
              "    }\n",
              "</style>\n",
              "<table border=\"1\" class=\"dataframe\">\n",
              "  <thead>\n",
              "    <tr style=\"text-align: right;\">\n",
              "      <th></th>\n",
              "      <th>Time</th>\n",
              "      <th>V1</th>\n",
              "      <th>V2</th>\n",
              "      <th>V3</th>\n",
              "      <th>V4</th>\n",
              "      <th>V5</th>\n",
              "      <th>V6</th>\n",
              "      <th>V7</th>\n",
              "      <th>V8</th>\n",
              "      <th>V9</th>\n",
              "      <th>...</th>\n",
              "      <th>V21</th>\n",
              "      <th>V22</th>\n",
              "      <th>V23</th>\n",
              "      <th>V24</th>\n",
              "      <th>V25</th>\n",
              "      <th>V26</th>\n",
              "      <th>V27</th>\n",
              "      <th>V28</th>\n",
              "      <th>Amount</th>\n",
              "      <th>Class</th>\n",
              "    </tr>\n",
              "  </thead>\n",
              "  <tbody>\n",
              "    <tr>\n",
              "      <th>0</th>\n",
              "      <td>0</td>\n",
              "      <td>-1.359807</td>\n",
              "      <td>-0.072781</td>\n",
              "      <td>2.536347</td>\n",
              "      <td>1.378155</td>\n",
              "      <td>-0.338321</td>\n",
              "      <td>0.462388</td>\n",
              "      <td>0.239599</td>\n",
              "      <td>0.098698</td>\n",
              "      <td>0.363787</td>\n",
              "      <td>...</td>\n",
              "      <td>-0.018307</td>\n",
              "      <td>0.277838</td>\n",
              "      <td>-0.110474</td>\n",
              "      <td>0.066928</td>\n",
              "      <td>0.128539</td>\n",
              "      <td>-0.189115</td>\n",
              "      <td>0.133558</td>\n",
              "      <td>-0.021053</td>\n",
              "      <td>149.62</td>\n",
              "      <td>0.0</td>\n",
              "    </tr>\n",
              "    <tr>\n",
              "      <th>1</th>\n",
              "      <td>0</td>\n",
              "      <td>1.191857</td>\n",
              "      <td>0.266151</td>\n",
              "      <td>0.166480</td>\n",
              "      <td>0.448154</td>\n",
              "      <td>0.060018</td>\n",
              "      <td>-0.082361</td>\n",
              "      <td>-0.078803</td>\n",
              "      <td>0.085102</td>\n",
              "      <td>-0.255425</td>\n",
              "      <td>...</td>\n",
              "      <td>-0.225775</td>\n",
              "      <td>-0.638672</td>\n",
              "      <td>0.101288</td>\n",
              "      <td>-0.339846</td>\n",
              "      <td>0.167170</td>\n",
              "      <td>0.125895</td>\n",
              "      <td>-0.008983</td>\n",
              "      <td>0.014724</td>\n",
              "      <td>2.69</td>\n",
              "      <td>0.0</td>\n",
              "    </tr>\n",
              "    <tr>\n",
              "      <th>2</th>\n",
              "      <td>1</td>\n",
              "      <td>-1.358354</td>\n",
              "      <td>-1.340163</td>\n",
              "      <td>1.773209</td>\n",
              "      <td>0.379780</td>\n",
              "      <td>-0.503198</td>\n",
              "      <td>1.800499</td>\n",
              "      <td>0.791461</td>\n",
              "      <td>0.247676</td>\n",
              "      <td>-1.514654</td>\n",
              "      <td>...</td>\n",
              "      <td>0.247998</td>\n",
              "      <td>0.771679</td>\n",
              "      <td>0.909412</td>\n",
              "      <td>-0.689281</td>\n",
              "      <td>-0.327642</td>\n",
              "      <td>-0.139097</td>\n",
              "      <td>-0.055353</td>\n",
              "      <td>-0.059752</td>\n",
              "      <td>378.66</td>\n",
              "      <td>0.0</td>\n",
              "    </tr>\n",
              "    <tr>\n",
              "      <th>3</th>\n",
              "      <td>1</td>\n",
              "      <td>-0.966272</td>\n",
              "      <td>-0.185226</td>\n",
              "      <td>1.792993</td>\n",
              "      <td>-0.863291</td>\n",
              "      <td>-0.010309</td>\n",
              "      <td>1.247203</td>\n",
              "      <td>0.237609</td>\n",
              "      <td>0.377436</td>\n",
              "      <td>-1.387024</td>\n",
              "      <td>...</td>\n",
              "      <td>-0.108300</td>\n",
              "      <td>0.005274</td>\n",
              "      <td>-0.190321</td>\n",
              "      <td>-1.175575</td>\n",
              "      <td>0.647376</td>\n",
              "      <td>-0.221929</td>\n",
              "      <td>0.062723</td>\n",
              "      <td>0.061458</td>\n",
              "      <td>123.50</td>\n",
              "      <td>0.0</td>\n",
              "    </tr>\n",
              "    <tr>\n",
              "      <th>4</th>\n",
              "      <td>2</td>\n",
              "      <td>-1.158233</td>\n",
              "      <td>0.877737</td>\n",
              "      <td>1.548718</td>\n",
              "      <td>0.403034</td>\n",
              "      <td>-0.407193</td>\n",
              "      <td>0.095921</td>\n",
              "      <td>0.592941</td>\n",
              "      <td>-0.270533</td>\n",
              "      <td>0.817739</td>\n",
              "      <td>...</td>\n",
              "      <td>-0.009431</td>\n",
              "      <td>0.798278</td>\n",
              "      <td>-0.137458</td>\n",
              "      <td>0.141267</td>\n",
              "      <td>-0.206010</td>\n",
              "      <td>0.502292</td>\n",
              "      <td>0.219422</td>\n",
              "      <td>0.215153</td>\n",
              "      <td>69.99</td>\n",
              "      <td>0.0</td>\n",
              "    </tr>\n",
              "  </tbody>\n",
              "</table>\n",
              "<p>5 rows × 31 columns</p>\n",
              "</div>\n",
              "      <button class=\"colab-df-convert\" onclick=\"convertToInteractive('df-dbf9fcd6-b2fd-4fd5-89a2-a6003f513b98')\"\n",
              "              title=\"Convert this dataframe to an interactive table.\"\n",
              "              style=\"display:none;\">\n",
              "        \n",
              "  <svg xmlns=\"http://www.w3.org/2000/svg\" height=\"24px\"viewBox=\"0 0 24 24\"\n",
              "       width=\"24px\">\n",
              "    <path d=\"M0 0h24v24H0V0z\" fill=\"none\"/>\n",
              "    <path d=\"M18.56 5.44l.94 2.06.94-2.06 2.06-.94-2.06-.94-.94-2.06-.94 2.06-2.06.94zm-11 1L8.5 8.5l.94-2.06 2.06-.94-2.06-.94L8.5 2.5l-.94 2.06-2.06.94zm10 10l.94 2.06.94-2.06 2.06-.94-2.06-.94-.94-2.06-.94 2.06-2.06.94z\"/><path d=\"M17.41 7.96l-1.37-1.37c-.4-.4-.92-.59-1.43-.59-.52 0-1.04.2-1.43.59L10.3 9.45l-7.72 7.72c-.78.78-.78 2.05 0 2.83L4 21.41c.39.39.9.59 1.41.59.51 0 1.02-.2 1.41-.59l7.78-7.78 2.81-2.81c.8-.78.8-2.07 0-2.86zM5.41 20L4 18.59l7.72-7.72 1.47 1.35L5.41 20z\"/>\n",
              "  </svg>\n",
              "      </button>\n",
              "      \n",
              "  <style>\n",
              "    .colab-df-container {\n",
              "      display:flex;\n",
              "      flex-wrap:wrap;\n",
              "      gap: 12px;\n",
              "    }\n",
              "\n",
              "    .colab-df-convert {\n",
              "      background-color: #E8F0FE;\n",
              "      border: none;\n",
              "      border-radius: 50%;\n",
              "      cursor: pointer;\n",
              "      display: none;\n",
              "      fill: #1967D2;\n",
              "      height: 32px;\n",
              "      padding: 0 0 0 0;\n",
              "      width: 32px;\n",
              "    }\n",
              "\n",
              "    .colab-df-convert:hover {\n",
              "      background-color: #E2EBFA;\n",
              "      box-shadow: 0px 1px 2px rgba(60, 64, 67, 0.3), 0px 1px 3px 1px rgba(60, 64, 67, 0.15);\n",
              "      fill: #174EA6;\n",
              "    }\n",
              "\n",
              "    [theme=dark] .colab-df-convert {\n",
              "      background-color: #3B4455;\n",
              "      fill: #D2E3FC;\n",
              "    }\n",
              "\n",
              "    [theme=dark] .colab-df-convert:hover {\n",
              "      background-color: #434B5C;\n",
              "      box-shadow: 0px 1px 3px 1px rgba(0, 0, 0, 0.15);\n",
              "      filter: drop-shadow(0px 1px 2px rgba(0, 0, 0, 0.3));\n",
              "      fill: #FFFFFF;\n",
              "    }\n",
              "  </style>\n",
              "\n",
              "      <script>\n",
              "        const buttonEl =\n",
              "          document.querySelector('#df-dbf9fcd6-b2fd-4fd5-89a2-a6003f513b98 button.colab-df-convert');\n",
              "        buttonEl.style.display =\n",
              "          google.colab.kernel.accessAllowed ? 'block' : 'none';\n",
              "\n",
              "        async function convertToInteractive(key) {\n",
              "          const element = document.querySelector('#df-dbf9fcd6-b2fd-4fd5-89a2-a6003f513b98');\n",
              "          const dataTable =\n",
              "            await google.colab.kernel.invokeFunction('convertToInteractive',\n",
              "                                                     [key], {});\n",
              "          if (!dataTable) return;\n",
              "\n",
              "          const docLinkHtml = 'Like what you see? Visit the ' +\n",
              "            '<a target=\"_blank\" href=https://colab.research.google.com/notebooks/data_table.ipynb>data table notebook</a>'\n",
              "            + ' to learn more about interactive tables.';\n",
              "          element.innerHTML = '';\n",
              "          dataTable['output_type'] = 'display_data';\n",
              "          await google.colab.output.renderOutput(dataTable, element);\n",
              "          const docLink = document.createElement('div');\n",
              "          docLink.innerHTML = docLinkHtml;\n",
              "          element.appendChild(docLink);\n",
              "        }\n",
              "      </script>\n",
              "    </div>\n",
              "  </div>\n",
              "  "
            ],
            "text/plain": [
              "   Time        V1        V2        V3        V4        V5        V6        V7  \\\n",
              "0     0 -1.359807 -0.072781  2.536347  1.378155 -0.338321  0.462388  0.239599   \n",
              "1     0  1.191857  0.266151  0.166480  0.448154  0.060018 -0.082361 -0.078803   \n",
              "2     1 -1.358354 -1.340163  1.773209  0.379780 -0.503198  1.800499  0.791461   \n",
              "3     1 -0.966272 -0.185226  1.792993 -0.863291 -0.010309  1.247203  0.237609   \n",
              "4     2 -1.158233  0.877737  1.548718  0.403034 -0.407193  0.095921  0.592941   \n",
              "\n",
              "         V8        V9  ...       V21       V22       V23       V24       V25  \\\n",
              "0  0.098698  0.363787  ... -0.018307  0.277838 -0.110474  0.066928  0.128539   \n",
              "1  0.085102 -0.255425  ... -0.225775 -0.638672  0.101288 -0.339846  0.167170   \n",
              "2  0.247676 -1.514654  ...  0.247998  0.771679  0.909412 -0.689281 -0.327642   \n",
              "3  0.377436 -1.387024  ... -0.108300  0.005274 -0.190321 -1.175575  0.647376   \n",
              "4 -0.270533  0.817739  ... -0.009431  0.798278 -0.137458  0.141267 -0.206010   \n",
              "\n",
              "        V26       V27       V28  Amount  Class  \n",
              "0 -0.189115  0.133558 -0.021053  149.62    0.0  \n",
              "1  0.125895 -0.008983  0.014724    2.69    0.0  \n",
              "2 -0.139097 -0.055353 -0.059752  378.66    0.0  \n",
              "3 -0.221929  0.062723  0.061458  123.50    0.0  \n",
              "4  0.502292  0.219422  0.215153   69.99    0.0  \n",
              "\n",
              "[5 rows x 31 columns]"
            ]
          },
          "execution_count": 139,
          "metadata": {},
          "output_type": "execute_result"
        }
      ],
      "source": [
        "#printing the first few rows of the datset\n",
        "data.head()"
      ]
    },
    {
      "cell_type": "code",
      "execution_count": null,
      "metadata": {
        "colab": {
          "background_save": true,
          "base_uri": "https://localhost:8080/",
          "height": 300
        },
        "id": "jeA8vdLDcdjC",
        "outputId": "aaccfb60-0dc1-4387-c721-2534b09b2419"
      },
      "outputs": [
        {
          "data": {
            "text/html": [
              "\n",
              "  <div id=\"df-d0e99dc2-7e87-416e-8ce9-19b4ddd305d9\">\n",
              "    <div class=\"colab-df-container\">\n",
              "      <div>\n",
              "<style scoped>\n",
              "    .dataframe tbody tr th:only-of-type {\n",
              "        vertical-align: middle;\n",
              "    }\n",
              "\n",
              "    .dataframe tbody tr th {\n",
              "        vertical-align: top;\n",
              "    }\n",
              "\n",
              "    .dataframe thead th {\n",
              "        text-align: right;\n",
              "    }\n",
              "</style>\n",
              "<table border=\"1\" class=\"dataframe\">\n",
              "  <thead>\n",
              "    <tr style=\"text-align: right;\">\n",
              "      <th></th>\n",
              "      <th>Time</th>\n",
              "      <th>V1</th>\n",
              "      <th>V2</th>\n",
              "      <th>V3</th>\n",
              "      <th>V4</th>\n",
              "      <th>V5</th>\n",
              "      <th>V6</th>\n",
              "      <th>V7</th>\n",
              "      <th>V8</th>\n",
              "      <th>V9</th>\n",
              "      <th>...</th>\n",
              "      <th>V21</th>\n",
              "      <th>V22</th>\n",
              "      <th>V23</th>\n",
              "      <th>V24</th>\n",
              "      <th>V25</th>\n",
              "      <th>V26</th>\n",
              "      <th>V27</th>\n",
              "      <th>V28</th>\n",
              "      <th>Amount</th>\n",
              "      <th>Class</th>\n",
              "    </tr>\n",
              "  </thead>\n",
              "  <tbody>\n",
              "    <tr>\n",
              "      <th>37717</th>\n",
              "      <td>39076</td>\n",
              "      <td>1.117749</td>\n",
              "      <td>-1.544665</td>\n",
              "      <td>-0.145357</td>\n",
              "      <td>-1.307482</td>\n",
              "      <td>-1.392833</td>\n",
              "      <td>-0.630833</td>\n",
              "      <td>-0.563659</td>\n",
              "      <td>-0.038716</td>\n",
              "      <td>-2.173892</td>\n",
              "      <td>...</td>\n",
              "      <td>-0.334155</td>\n",
              "      <td>-1.108220</td>\n",
              "      <td>0.070461</td>\n",
              "      <td>0.115485</td>\n",
              "      <td>0.078726</td>\n",
              "      <td>-0.460844</td>\n",
              "      <td>-0.029143</td>\n",
              "      <td>0.029028</td>\n",
              "      <td>183.19</td>\n",
              "      <td>0.0</td>\n",
              "    </tr>\n",
              "    <tr>\n",
              "      <th>37718</th>\n",
              "      <td>39076</td>\n",
              "      <td>0.758729</td>\n",
              "      <td>-0.483875</td>\n",
              "      <td>0.125488</td>\n",
              "      <td>1.449159</td>\n",
              "      <td>-0.639231</td>\n",
              "      <td>-0.805011</td>\n",
              "      <td>0.406994</td>\n",
              "      <td>-0.221212</td>\n",
              "      <td>0.068777</td>\n",
              "      <td>...</td>\n",
              "      <td>0.210712</td>\n",
              "      <td>0.063091</td>\n",
              "      <td>-0.316636</td>\n",
              "      <td>0.394472</td>\n",
              "      <td>0.558720</td>\n",
              "      <td>-0.304812</td>\n",
              "      <td>-0.033008</td>\n",
              "      <td>0.063331</td>\n",
              "      <td>250.00</td>\n",
              "      <td>0.0</td>\n",
              "    </tr>\n",
              "    <tr>\n",
              "      <th>37719</th>\n",
              "      <td>39076</td>\n",
              "      <td>-0.474907</td>\n",
              "      <td>0.835804</td>\n",
              "      <td>0.075878</td>\n",
              "      <td>-1.251283</td>\n",
              "      <td>2.492736</td>\n",
              "      <td>3.385419</td>\n",
              "      <td>0.169507</td>\n",
              "      <td>0.934749</td>\n",
              "      <td>-0.584224</td>\n",
              "      <td>...</td>\n",
              "      <td>-0.270398</td>\n",
              "      <td>-0.866353</td>\n",
              "      <td>-0.085720</td>\n",
              "      <td>0.986274</td>\n",
              "      <td>-0.082934</td>\n",
              "      <td>0.084198</td>\n",
              "      <td>0.310936</td>\n",
              "      <td>0.170342</td>\n",
              "      <td>1.49</td>\n",
              "      <td>0.0</td>\n",
              "    </tr>\n",
              "    <tr>\n",
              "      <th>37720</th>\n",
              "      <td>39077</td>\n",
              "      <td>-2.682780</td>\n",
              "      <td>-2.028562</td>\n",
              "      <td>1.745223</td>\n",
              "      <td>-1.157952</td>\n",
              "      <td>-0.143692</td>\n",
              "      <td>-0.807503</td>\n",
              "      <td>-1.154141</td>\n",
              "      <td>0.436917</td>\n",
              "      <td>-0.293442</td>\n",
              "      <td>...</td>\n",
              "      <td>0.353396</td>\n",
              "      <td>0.968145</td>\n",
              "      <td>-0.776459</td>\n",
              "      <td>0.182662</td>\n",
              "      <td>-0.000427</td>\n",
              "      <td>-0.209058</td>\n",
              "      <td>0.256991</td>\n",
              "      <td>-0.585781</td>\n",
              "      <td>102.00</td>\n",
              "      <td>0.0</td>\n",
              "    </tr>\n",
              "    <tr>\n",
              "      <th>37721</th>\n",
              "      <td>39077</td>\n",
              "      <td>1.106292</td>\n",
              "      <td>-0.525727</td>\n",
              "      <td>0.926440</td>\n",
              "      <td>0.817696</td>\n",
              "      <td>-1.122177</td>\n",
              "      <td>-0.062703</td>\n",
              "      <td>NaN</td>\n",
              "      <td>NaN</td>\n",
              "      <td>NaN</td>\n",
              "      <td>...</td>\n",
              "      <td>NaN</td>\n",
              "      <td>NaN</td>\n",
              "      <td>NaN</td>\n",
              "      <td>NaN</td>\n",
              "      <td>NaN</td>\n",
              "      <td>NaN</td>\n",
              "      <td>NaN</td>\n",
              "      <td>NaN</td>\n",
              "      <td>NaN</td>\n",
              "      <td>NaN</td>\n",
              "    </tr>\n",
              "  </tbody>\n",
              "</table>\n",
              "<p>5 rows × 31 columns</p>\n",
              "</div>\n",
              "      <button class=\"colab-df-convert\" onclick=\"convertToInteractive('df-d0e99dc2-7e87-416e-8ce9-19b4ddd305d9')\"\n",
              "              title=\"Convert this dataframe to an interactive table.\"\n",
              "              style=\"display:none;\">\n",
              "        \n",
              "  <svg xmlns=\"http://www.w3.org/2000/svg\" height=\"24px\"viewBox=\"0 0 24 24\"\n",
              "       width=\"24px\">\n",
              "    <path d=\"M0 0h24v24H0V0z\" fill=\"none\"/>\n",
              "    <path d=\"M18.56 5.44l.94 2.06.94-2.06 2.06-.94-2.06-.94-.94-2.06-.94 2.06-2.06.94zm-11 1L8.5 8.5l.94-2.06 2.06-.94-2.06-.94L8.5 2.5l-.94 2.06-2.06.94zm10 10l.94 2.06.94-2.06 2.06-.94-2.06-.94-.94-2.06-.94 2.06-2.06.94z\"/><path d=\"M17.41 7.96l-1.37-1.37c-.4-.4-.92-.59-1.43-.59-.52 0-1.04.2-1.43.59L10.3 9.45l-7.72 7.72c-.78.78-.78 2.05 0 2.83L4 21.41c.39.39.9.59 1.41.59.51 0 1.02-.2 1.41-.59l7.78-7.78 2.81-2.81c.8-.78.8-2.07 0-2.86zM5.41 20L4 18.59l7.72-7.72 1.47 1.35L5.41 20z\"/>\n",
              "  </svg>\n",
              "      </button>\n",
              "      \n",
              "  <style>\n",
              "    .colab-df-container {\n",
              "      display:flex;\n",
              "      flex-wrap:wrap;\n",
              "      gap: 12px;\n",
              "    }\n",
              "\n",
              "    .colab-df-convert {\n",
              "      background-color: #E8F0FE;\n",
              "      border: none;\n",
              "      border-radius: 50%;\n",
              "      cursor: pointer;\n",
              "      display: none;\n",
              "      fill: #1967D2;\n",
              "      height: 32px;\n",
              "      padding: 0 0 0 0;\n",
              "      width: 32px;\n",
              "    }\n",
              "\n",
              "    .colab-df-convert:hover {\n",
              "      background-color: #E2EBFA;\n",
              "      box-shadow: 0px 1px 2px rgba(60, 64, 67, 0.3), 0px 1px 3px 1px rgba(60, 64, 67, 0.15);\n",
              "      fill: #174EA6;\n",
              "    }\n",
              "\n",
              "    [theme=dark] .colab-df-convert {\n",
              "      background-color: #3B4455;\n",
              "      fill: #D2E3FC;\n",
              "    }\n",
              "\n",
              "    [theme=dark] .colab-df-convert:hover {\n",
              "      background-color: #434B5C;\n",
              "      box-shadow: 0px 1px 3px 1px rgba(0, 0, 0, 0.15);\n",
              "      filter: drop-shadow(0px 1px 2px rgba(0, 0, 0, 0.3));\n",
              "      fill: #FFFFFF;\n",
              "    }\n",
              "  </style>\n",
              "\n",
              "      <script>\n",
              "        const buttonEl =\n",
              "          document.querySelector('#df-d0e99dc2-7e87-416e-8ce9-19b4ddd305d9 button.colab-df-convert');\n",
              "        buttonEl.style.display =\n",
              "          google.colab.kernel.accessAllowed ? 'block' : 'none';\n",
              "\n",
              "        async function convertToInteractive(key) {\n",
              "          const element = document.querySelector('#df-d0e99dc2-7e87-416e-8ce9-19b4ddd305d9');\n",
              "          const dataTable =\n",
              "            await google.colab.kernel.invokeFunction('convertToInteractive',\n",
              "                                                     [key], {});\n",
              "          if (!dataTable) return;\n",
              "\n",
              "          const docLinkHtml = 'Like what you see? Visit the ' +\n",
              "            '<a target=\"_blank\" href=https://colab.research.google.com/notebooks/data_table.ipynb>data table notebook</a>'\n",
              "            + ' to learn more about interactive tables.';\n",
              "          element.innerHTML = '';\n",
              "          dataTable['output_type'] = 'display_data';\n",
              "          await google.colab.output.renderOutput(dataTable, element);\n",
              "          const docLink = document.createElement('div');\n",
              "          docLink.innerHTML = docLinkHtml;\n",
              "          element.appendChild(docLink);\n",
              "        }\n",
              "      </script>\n",
              "    </div>\n",
              "  </div>\n",
              "  "
            ],
            "text/plain": [
              "        Time        V1        V2        V3        V4        V5        V6  \\\n",
              "37717  39076  1.117749 -1.544665 -0.145357 -1.307482 -1.392833 -0.630833   \n",
              "37718  39076  0.758729 -0.483875  0.125488  1.449159 -0.639231 -0.805011   \n",
              "37719  39076 -0.474907  0.835804  0.075878 -1.251283  2.492736  3.385419   \n",
              "37720  39077 -2.682780 -2.028562  1.745223 -1.157952 -0.143692 -0.807503   \n",
              "37721  39077  1.106292 -0.525727  0.926440  0.817696 -1.122177 -0.062703   \n",
              "\n",
              "             V7        V8        V9  ...       V21       V22       V23  \\\n",
              "37717 -0.563659 -0.038716 -2.173892  ... -0.334155 -1.108220  0.070461   \n",
              "37718  0.406994 -0.221212  0.068777  ...  0.210712  0.063091 -0.316636   \n",
              "37719  0.169507  0.934749 -0.584224  ... -0.270398 -0.866353 -0.085720   \n",
              "37720 -1.154141  0.436917 -0.293442  ...  0.353396  0.968145 -0.776459   \n",
              "37721       NaN       NaN       NaN  ...       NaN       NaN       NaN   \n",
              "\n",
              "            V24       V25       V26       V27       V28  Amount  Class  \n",
              "37717  0.115485  0.078726 -0.460844 -0.029143  0.029028  183.19    0.0  \n",
              "37718  0.394472  0.558720 -0.304812 -0.033008  0.063331  250.00    0.0  \n",
              "37719  0.986274 -0.082934  0.084198  0.310936  0.170342    1.49    0.0  \n",
              "37720  0.182662 -0.000427 -0.209058  0.256991 -0.585781  102.00    0.0  \n",
              "37721       NaN       NaN       NaN       NaN       NaN     NaN    NaN  \n",
              "\n",
              "[5 rows x 31 columns]"
            ]
          },
          "execution_count": 140,
          "metadata": {},
          "output_type": "execute_result"
        }
      ],
      "source": [
        "#printing the last few rows of the dataset\n",
        "data.tail()"
      ]
    },
    {
      "cell_type": "code",
      "execution_count": null,
      "metadata": {
        "colab": {
          "background_save": true,
          "base_uri": "https://localhost:8080/"
        },
        "id": "Vm8y29pHpP0l",
        "outputId": "c61ec938-2b8c-4c26-9ce0-2b086a82b1fb"
      },
      "outputs": [
        {
          "data": {
            "text/plain": [
              "(37722, 31)"
            ]
          },
          "execution_count": 141,
          "metadata": {},
          "output_type": "execute_result"
        }
      ],
      "source": [
        "#printing the shape of the data set\n",
        "data.shape"
      ]
    },
    {
      "cell_type": "code",
      "execution_count": null,
      "metadata": {
        "colab": {
          "background_save": true,
          "base_uri": "https://localhost:8080/"
        },
        "id": "Ds06Kc1spR_5",
        "outputId": "982c66c0-efa2-472d-d761-7eeb7594d121"
      },
      "outputs": [
        {
          "name": "stdout",
          "output_type": "stream",
          "text": [
            "<class 'pandas.core.frame.DataFrame'>\n",
            "RangeIndex: 37722 entries, 0 to 37721\n",
            "Data columns (total 31 columns):\n",
            " #   Column  Non-Null Count  Dtype  \n",
            "---  ------  --------------  -----  \n",
            " 0   Time    37722 non-null  int64  \n",
            " 1   V1      37722 non-null  float64\n",
            " 2   V2      37722 non-null  float64\n",
            " 3   V3      37722 non-null  float64\n",
            " 4   V4      37722 non-null  float64\n",
            " 5   V5      37722 non-null  float64\n",
            " 6   V6      37722 non-null  float64\n",
            " 7   V7      37721 non-null  float64\n",
            " 8   V8      37721 non-null  float64\n",
            " 9   V9      37721 non-null  float64\n",
            " 10  V10     37721 non-null  float64\n",
            " 11  V11     37721 non-null  float64\n",
            " 12  V12     37721 non-null  float64\n",
            " 13  V13     37721 non-null  float64\n",
            " 14  V14     37721 non-null  float64\n",
            " 15  V15     37721 non-null  float64\n",
            " 16  V16     37721 non-null  float64\n",
            " 17  V17     37721 non-null  float64\n",
            " 18  V18     37721 non-null  float64\n",
            " 19  V19     37721 non-null  float64\n",
            " 20  V20     37721 non-null  float64\n",
            " 21  V21     37721 non-null  float64\n",
            " 22  V22     37721 non-null  float64\n",
            " 23  V23     37721 non-null  float64\n",
            " 24  V24     37721 non-null  float64\n",
            " 25  V25     37721 non-null  float64\n",
            " 26  V26     37721 non-null  float64\n",
            " 27  V27     37721 non-null  float64\n",
            " 28  V28     37721 non-null  float64\n",
            " 29  Amount  37721 non-null  float64\n",
            " 30  Class   37721 non-null  float64\n",
            "dtypes: float64(30), int64(1)\n",
            "memory usage: 8.9 MB\n"
          ]
        }
      ],
      "source": [
        "#printing the information of the dataset\n",
        "data.info()"
      ]
    },
    {
      "cell_type": "code",
      "execution_count": null,
      "metadata": {
        "colab": {
          "background_save": true,
          "base_uri": "https://localhost:8080/"
        },
        "id": "WaYKDOozpUd3",
        "outputId": "e9f55a04-ab1c-4868-c292-02a8b304a4c0"
      },
      "outputs": [
        {
          "data": {
            "text/plain": [
              "Time      0\n",
              "V1        0\n",
              "V2        0\n",
              "V3        0\n",
              "V4        0\n",
              "V5        0\n",
              "V6        0\n",
              "V7        1\n",
              "V8        1\n",
              "V9        1\n",
              "V10       1\n",
              "V11       1\n",
              "V12       1\n",
              "V13       1\n",
              "V14       1\n",
              "V15       1\n",
              "V16       1\n",
              "V17       1\n",
              "V18       1\n",
              "V19       1\n",
              "V20       1\n",
              "V21       1\n",
              "V22       1\n",
              "V23       1\n",
              "V24       1\n",
              "V25       1\n",
              "V26       1\n",
              "V27       1\n",
              "V28       1\n",
              "Amount    1\n",
              "Class     1\n",
              "dtype: int64"
            ]
          },
          "execution_count": 143,
          "metadata": {},
          "output_type": "execute_result"
        }
      ],
      "source": [
        "#counting the sum of the null values\n",
        "data.isnull().sum()"
      ]
    },
    {
      "cell_type": "code",
      "execution_count": null,
      "metadata": {
        "colab": {
          "background_save": true
        },
        "id": "yQSfIW64pY-e"
      },
      "outputs": [],
      "source": [
        "#extracting the duplicate rows\n",
        "duplicate = data[data.duplicated()]"
      ]
    },
    {
      "cell_type": "code",
      "execution_count": null,
      "metadata": {
        "colab": {
          "background_save": true,
          "base_uri": "https://localhost:8080/"
        },
        "id": "en9wejG2pauP",
        "outputId": "d5d73ad7-f455-47cc-ba1f-123346ebb262"
      },
      "outputs": [
        {
          "data": {
            "text/plain": [
              "(153, 31)"
            ]
          },
          "execution_count": 145,
          "metadata": {},
          "output_type": "execute_result"
        }
      ],
      "source": [
        "#shape of the duplicate data frame\n",
        "duplicate.shape"
      ]
    },
    {
      "cell_type": "code",
      "execution_count": null,
      "metadata": {
        "colab": {
          "background_save": true
        },
        "id": "UiiQbDCZpciv"
      },
      "outputs": [],
      "source": [
        "#remocing the duplicate rows from the pandas dataframe\n",
        "data.drop_duplicates(inplace=True)"
      ]
    },
    {
      "cell_type": "code",
      "execution_count": null,
      "metadata": {
        "colab": {
          "background_save": true,
          "base_uri": "https://localhost:8080/"
        },
        "id": "fFX2TjEFpe8D",
        "outputId": "71fac314-737d-4104-cbff-94d9ee39dbe0"
      },
      "outputs": [
        {
          "data": {
            "text/plain": [
              "(37569, 31)"
            ]
          },
          "execution_count": 147,
          "metadata": {},
          "output_type": "execute_result"
        }
      ],
      "source": [
        "#printing the shape of the dataframe\n",
        "data.shape"
      ]
    },
    {
      "cell_type": "code",
      "execution_count": null,
      "metadata": {
        "colab": {
          "background_save": true,
          "base_uri": "https://localhost:8080/"
        },
        "id": "SvW_lCSAphC1",
        "outputId": "1c01cc1a-caf4-4c2e-cdc2-07663ca8a60e"
      },
      "outputs": [
        {
          "data": {
            "text/plain": [
              "0.0    37465\n",
              "1.0      103\n",
              "Name: Class, dtype: int64"
            ]
          },
          "execution_count": 148,
          "metadata": {},
          "output_type": "execute_result"
        }
      ],
      "source": [
        "#counting the occurance of the unique values in the class column\n",
        "data[\"Class\"].value_counts()"
      ]
    },
    {
      "cell_type": "code",
      "execution_count": null,
      "metadata": {
        "colab": {
          "background_save": true
        },
        "id": "YS50y6izphbf"
      },
      "outputs": [],
      "source": [
        "#splitting the dataframe into 2 subsets\n",
        "legit = data[data.Class == 0] #legitimate transactions\n",
        "fraud = data[data.Class == 1] #fradulent transactions"
      ]
    },
    {
      "cell_type": "code",
      "execution_count": null,
      "metadata": {
        "colab": {
          "background_save": true,
          "base_uri": "https://localhost:8080/"
        },
        "id": "5S9IVIHhpkyD",
        "outputId": "815bf7b5-927e-4aae-ce50-af675ae0ce45"
      },
      "outputs": [
        {
          "name": "stdout",
          "output_type": "stream",
          "text": [
            "(37465, 31)\n",
            "(103, 31)\n"
          ]
        }
      ],
      "source": [
        "print(legit.shape) #shape of legitimate transactions\n",
        "print(fraud.shape) #shape of fradulent transactions"
      ]
    },
    {
      "cell_type": "code",
      "execution_count": null,
      "metadata": {
        "colab": {
          "background_save": true,
          "base_uri": "https://localhost:8080/"
        },
        "id": "2tu7tkiPpp8P",
        "outputId": "1204d59f-b47e-4768-8fa4-6ef6fdffe292"
      },
      "outputs": [
        {
          "data": {
            "text/plain": [
              "count    37465.000000\n",
              "mean        86.188595\n",
              "std        233.292433\n",
              "min          0.000000\n",
              "25%          7.380000\n",
              "50%         22.970000\n",
              "75%         77.900000\n",
              "max       7879.420000\n",
              "Name: Amount, dtype: float64"
            ]
          },
          "execution_count": 151,
          "metadata": {},
          "output_type": "execute_result"
        }
      ],
      "source": [
        "#descriptive statistics for the \"Amount\" column in the legit DataFrame\n",
        "legit.Amount.describe()"
      ]
    },
    {
      "cell_type": "code",
      "execution_count": null,
      "metadata": {
        "colab": {
          "background_save": true,
          "base_uri": "https://localhost:8080/"
        },
        "id": "lTGwBn4HprvN",
        "outputId": "cf3128dd-9c1b-49c7-fc33-3e018eaa23ea"
      },
      "outputs": [
        {
          "data": {
            "text/plain": [
              "count     103.000000\n",
              "mean       90.471165\n",
              "std       247.173335\n",
              "min         0.000000\n",
              "25%         1.000000\n",
              "50%         3.760000\n",
              "75%        99.990000\n",
              "max      1809.680000\n",
              "Name: Amount, dtype: float64"
            ]
          },
          "execution_count": 152,
          "metadata": {},
          "output_type": "execute_result"
        }
      ],
      "source": [
        "#descriptive statistics for the \"Amount\" column in the fraud DataFrame\n",
        "fraud.Amount.describe()\n"
      ]
    },
    {
      "cell_type": "code",
      "execution_count": null,
      "metadata": {
        "colab": {
          "background_save": true
        },
        "id": "D1A8D7mcptxT"
      },
      "outputs": [],
      "source": [
        "X = data.drop(columns = \"Class\", axis = 1) #features\n",
        "Y = data[\"Class\"]  #target variables"
      ]
    },
    {
      "cell_type": "code",
      "execution_count": null,
      "metadata": {
        "colab": {
          "background_save": true,
          "base_uri": "https://localhost:8080/",
          "height": 300
        },
        "id": "rxjdfVP2pvhz",
        "outputId": "45acc2e8-a4de-47ca-f4ed-0e8b7f772c1d"
      },
      "outputs": [
        {
          "data": {
            "text/html": [
              "\n",
              "  <div id=\"df-0c18fc40-2034-47d0-8379-a5759c7aead5\">\n",
              "    <div class=\"colab-df-container\">\n",
              "      <div>\n",
              "<style scoped>\n",
              "    .dataframe tbody tr th:only-of-type {\n",
              "        vertical-align: middle;\n",
              "    }\n",
              "\n",
              "    .dataframe tbody tr th {\n",
              "        vertical-align: top;\n",
              "    }\n",
              "\n",
              "    .dataframe thead th {\n",
              "        text-align: right;\n",
              "    }\n",
              "</style>\n",
              "<table border=\"1\" class=\"dataframe\">\n",
              "  <thead>\n",
              "    <tr style=\"text-align: right;\">\n",
              "      <th></th>\n",
              "      <th>Time</th>\n",
              "      <th>V1</th>\n",
              "      <th>V2</th>\n",
              "      <th>V3</th>\n",
              "      <th>V4</th>\n",
              "      <th>V5</th>\n",
              "      <th>V6</th>\n",
              "      <th>V7</th>\n",
              "      <th>V8</th>\n",
              "      <th>V9</th>\n",
              "      <th>...</th>\n",
              "      <th>V20</th>\n",
              "      <th>V21</th>\n",
              "      <th>V22</th>\n",
              "      <th>V23</th>\n",
              "      <th>V24</th>\n",
              "      <th>V25</th>\n",
              "      <th>V26</th>\n",
              "      <th>V27</th>\n",
              "      <th>V28</th>\n",
              "      <th>Amount</th>\n",
              "    </tr>\n",
              "  </thead>\n",
              "  <tbody>\n",
              "    <tr>\n",
              "      <th>0</th>\n",
              "      <td>0</td>\n",
              "      <td>-1.359807</td>\n",
              "      <td>-0.072781</td>\n",
              "      <td>2.536347</td>\n",
              "      <td>1.378155</td>\n",
              "      <td>-0.338321</td>\n",
              "      <td>0.462388</td>\n",
              "      <td>0.239599</td>\n",
              "      <td>0.098698</td>\n",
              "      <td>0.363787</td>\n",
              "      <td>...</td>\n",
              "      <td>0.251412</td>\n",
              "      <td>-0.018307</td>\n",
              "      <td>0.277838</td>\n",
              "      <td>-0.110474</td>\n",
              "      <td>0.066928</td>\n",
              "      <td>0.128539</td>\n",
              "      <td>-0.189115</td>\n",
              "      <td>0.133558</td>\n",
              "      <td>-0.021053</td>\n",
              "      <td>149.62</td>\n",
              "    </tr>\n",
              "    <tr>\n",
              "      <th>1</th>\n",
              "      <td>0</td>\n",
              "      <td>1.191857</td>\n",
              "      <td>0.266151</td>\n",
              "      <td>0.166480</td>\n",
              "      <td>0.448154</td>\n",
              "      <td>0.060018</td>\n",
              "      <td>-0.082361</td>\n",
              "      <td>-0.078803</td>\n",
              "      <td>0.085102</td>\n",
              "      <td>-0.255425</td>\n",
              "      <td>...</td>\n",
              "      <td>-0.069083</td>\n",
              "      <td>-0.225775</td>\n",
              "      <td>-0.638672</td>\n",
              "      <td>0.101288</td>\n",
              "      <td>-0.339846</td>\n",
              "      <td>0.167170</td>\n",
              "      <td>0.125895</td>\n",
              "      <td>-0.008983</td>\n",
              "      <td>0.014724</td>\n",
              "      <td>2.69</td>\n",
              "    </tr>\n",
              "    <tr>\n",
              "      <th>2</th>\n",
              "      <td>1</td>\n",
              "      <td>-1.358354</td>\n",
              "      <td>-1.340163</td>\n",
              "      <td>1.773209</td>\n",
              "      <td>0.379780</td>\n",
              "      <td>-0.503198</td>\n",
              "      <td>1.800499</td>\n",
              "      <td>0.791461</td>\n",
              "      <td>0.247676</td>\n",
              "      <td>-1.514654</td>\n",
              "      <td>...</td>\n",
              "      <td>0.524980</td>\n",
              "      <td>0.247998</td>\n",
              "      <td>0.771679</td>\n",
              "      <td>0.909412</td>\n",
              "      <td>-0.689281</td>\n",
              "      <td>-0.327642</td>\n",
              "      <td>-0.139097</td>\n",
              "      <td>-0.055353</td>\n",
              "      <td>-0.059752</td>\n",
              "      <td>378.66</td>\n",
              "    </tr>\n",
              "    <tr>\n",
              "      <th>3</th>\n",
              "      <td>1</td>\n",
              "      <td>-0.966272</td>\n",
              "      <td>-0.185226</td>\n",
              "      <td>1.792993</td>\n",
              "      <td>-0.863291</td>\n",
              "      <td>-0.010309</td>\n",
              "      <td>1.247203</td>\n",
              "      <td>0.237609</td>\n",
              "      <td>0.377436</td>\n",
              "      <td>-1.387024</td>\n",
              "      <td>...</td>\n",
              "      <td>-0.208038</td>\n",
              "      <td>-0.108300</td>\n",
              "      <td>0.005274</td>\n",
              "      <td>-0.190321</td>\n",
              "      <td>-1.175575</td>\n",
              "      <td>0.647376</td>\n",
              "      <td>-0.221929</td>\n",
              "      <td>0.062723</td>\n",
              "      <td>0.061458</td>\n",
              "      <td>123.50</td>\n",
              "    </tr>\n",
              "    <tr>\n",
              "      <th>4</th>\n",
              "      <td>2</td>\n",
              "      <td>-1.158233</td>\n",
              "      <td>0.877737</td>\n",
              "      <td>1.548718</td>\n",
              "      <td>0.403034</td>\n",
              "      <td>-0.407193</td>\n",
              "      <td>0.095921</td>\n",
              "      <td>0.592941</td>\n",
              "      <td>-0.270533</td>\n",
              "      <td>0.817739</td>\n",
              "      <td>...</td>\n",
              "      <td>0.408542</td>\n",
              "      <td>-0.009431</td>\n",
              "      <td>0.798278</td>\n",
              "      <td>-0.137458</td>\n",
              "      <td>0.141267</td>\n",
              "      <td>-0.206010</td>\n",
              "      <td>0.502292</td>\n",
              "      <td>0.219422</td>\n",
              "      <td>0.215153</td>\n",
              "      <td>69.99</td>\n",
              "    </tr>\n",
              "  </tbody>\n",
              "</table>\n",
              "<p>5 rows × 30 columns</p>\n",
              "</div>\n",
              "      <button class=\"colab-df-convert\" onclick=\"convertToInteractive('df-0c18fc40-2034-47d0-8379-a5759c7aead5')\"\n",
              "              title=\"Convert this dataframe to an interactive table.\"\n",
              "              style=\"display:none;\">\n",
              "        \n",
              "  <svg xmlns=\"http://www.w3.org/2000/svg\" height=\"24px\"viewBox=\"0 0 24 24\"\n",
              "       width=\"24px\">\n",
              "    <path d=\"M0 0h24v24H0V0z\" fill=\"none\"/>\n",
              "    <path d=\"M18.56 5.44l.94 2.06.94-2.06 2.06-.94-2.06-.94-.94-2.06-.94 2.06-2.06.94zm-11 1L8.5 8.5l.94-2.06 2.06-.94-2.06-.94L8.5 2.5l-.94 2.06-2.06.94zm10 10l.94 2.06.94-2.06 2.06-.94-2.06-.94-.94-2.06-.94 2.06-2.06.94z\"/><path d=\"M17.41 7.96l-1.37-1.37c-.4-.4-.92-.59-1.43-.59-.52 0-1.04.2-1.43.59L10.3 9.45l-7.72 7.72c-.78.78-.78 2.05 0 2.83L4 21.41c.39.39.9.59 1.41.59.51 0 1.02-.2 1.41-.59l7.78-7.78 2.81-2.81c.8-.78.8-2.07 0-2.86zM5.41 20L4 18.59l7.72-7.72 1.47 1.35L5.41 20z\"/>\n",
              "  </svg>\n",
              "      </button>\n",
              "      \n",
              "  <style>\n",
              "    .colab-df-container {\n",
              "      display:flex;\n",
              "      flex-wrap:wrap;\n",
              "      gap: 12px;\n",
              "    }\n",
              "\n",
              "    .colab-df-convert {\n",
              "      background-color: #E8F0FE;\n",
              "      border: none;\n",
              "      border-radius: 50%;\n",
              "      cursor: pointer;\n",
              "      display: none;\n",
              "      fill: #1967D2;\n",
              "      height: 32px;\n",
              "      padding: 0 0 0 0;\n",
              "      width: 32px;\n",
              "    }\n",
              "\n",
              "    .colab-df-convert:hover {\n",
              "      background-color: #E2EBFA;\n",
              "      box-shadow: 0px 1px 2px rgba(60, 64, 67, 0.3), 0px 1px 3px 1px rgba(60, 64, 67, 0.15);\n",
              "      fill: #174EA6;\n",
              "    }\n",
              "\n",
              "    [theme=dark] .colab-df-convert {\n",
              "      background-color: #3B4455;\n",
              "      fill: #D2E3FC;\n",
              "    }\n",
              "\n",
              "    [theme=dark] .colab-df-convert:hover {\n",
              "      background-color: #434B5C;\n",
              "      box-shadow: 0px 1px 3px 1px rgba(0, 0, 0, 0.15);\n",
              "      filter: drop-shadow(0px 1px 2px rgba(0, 0, 0, 0.3));\n",
              "      fill: #FFFFFF;\n",
              "    }\n",
              "  </style>\n",
              "\n",
              "      <script>\n",
              "        const buttonEl =\n",
              "          document.querySelector('#df-0c18fc40-2034-47d0-8379-a5759c7aead5 button.colab-df-convert');\n",
              "        buttonEl.style.display =\n",
              "          google.colab.kernel.accessAllowed ? 'block' : 'none';\n",
              "\n",
              "        async function convertToInteractive(key) {\n",
              "          const element = document.querySelector('#df-0c18fc40-2034-47d0-8379-a5759c7aead5');\n",
              "          const dataTable =\n",
              "            await google.colab.kernel.invokeFunction('convertToInteractive',\n",
              "                                                     [key], {});\n",
              "          if (!dataTable) return;\n",
              "\n",
              "          const docLinkHtml = 'Like what you see? Visit the ' +\n",
              "            '<a target=\"_blank\" href=https://colab.research.google.com/notebooks/data_table.ipynb>data table notebook</a>'\n",
              "            + ' to learn more about interactive tables.';\n",
              "          element.innerHTML = '';\n",
              "          dataTable['output_type'] = 'display_data';\n",
              "          await google.colab.output.renderOutput(dataTable, element);\n",
              "          const docLink = document.createElement('div');\n",
              "          docLink.innerHTML = docLinkHtml;\n",
              "          element.appendChild(docLink);\n",
              "        }\n",
              "      </script>\n",
              "    </div>\n",
              "  </div>\n",
              "  "
            ],
            "text/plain": [
              "   Time        V1        V2        V3        V4        V5        V6        V7  \\\n",
              "0     0 -1.359807 -0.072781  2.536347  1.378155 -0.338321  0.462388  0.239599   \n",
              "1     0  1.191857  0.266151  0.166480  0.448154  0.060018 -0.082361 -0.078803   \n",
              "2     1 -1.358354 -1.340163  1.773209  0.379780 -0.503198  1.800499  0.791461   \n",
              "3     1 -0.966272 -0.185226  1.792993 -0.863291 -0.010309  1.247203  0.237609   \n",
              "4     2 -1.158233  0.877737  1.548718  0.403034 -0.407193  0.095921  0.592941   \n",
              "\n",
              "         V8        V9  ...       V20       V21       V22       V23       V24  \\\n",
              "0  0.098698  0.363787  ...  0.251412 -0.018307  0.277838 -0.110474  0.066928   \n",
              "1  0.085102 -0.255425  ... -0.069083 -0.225775 -0.638672  0.101288 -0.339846   \n",
              "2  0.247676 -1.514654  ...  0.524980  0.247998  0.771679  0.909412 -0.689281   \n",
              "3  0.377436 -1.387024  ... -0.208038 -0.108300  0.005274 -0.190321 -1.175575   \n",
              "4 -0.270533  0.817739  ...  0.408542 -0.009431  0.798278 -0.137458  0.141267   \n",
              "\n",
              "        V25       V26       V27       V28  Amount  \n",
              "0  0.128539 -0.189115  0.133558 -0.021053  149.62  \n",
              "1  0.167170  0.125895 -0.008983  0.014724    2.69  \n",
              "2 -0.327642 -0.139097 -0.055353 -0.059752  378.66  \n",
              "3  0.647376 -0.221929  0.062723  0.061458  123.50  \n",
              "4 -0.206010  0.502292  0.219422  0.215153   69.99  \n",
              "\n",
              "[5 rows x 30 columns]"
            ]
          },
          "execution_count": 154,
          "metadata": {},
          "output_type": "execute_result"
        }
      ],
      "source": [
        "#printing first few rows of X dataframe\n",
        "X.head()"
      ]
    },
    {
      "cell_type": "code",
      "execution_count": null,
      "metadata": {
        "colab": {
          "background_save": true,
          "base_uri": "https://localhost:8080/"
        },
        "id": "27Nf2Z8spxiu",
        "outputId": "d39a7c86-e66c-4fb6-c9ee-1597e46efff0"
      },
      "outputs": [
        {
          "data": {
            "text/plain": [
              "0    0.0\n",
              "1    0.0\n",
              "2    0.0\n",
              "3    0.0\n",
              "4    0.0\n",
              "Name: Class, dtype: float64"
            ]
          },
          "execution_count": 155,
          "metadata": {},
          "output_type": "execute_result"
        }
      ],
      "source": [
        "#printing first few rows of Y dataframe\n",
        "Y.head()\n"
      ]
    },
    {
      "cell_type": "code",
      "execution_count": null,
      "metadata": {
        "colab": {
          "background_save": true,
          "base_uri": "https://localhost:8080/"
        },
        "id": "TZN9D4SrtuTP",
        "outputId": "027e13e8-2d66-4a39-e1a2-9869eee31b5f"
      },
      "outputs": [
        {
          "name": "stdout",
          "output_type": "stream",
          "text": [
            "1\n",
            "Original dataset shape Counter({0.0: 37618, 1.0: 103})\n",
            "Resampled dataset shape Counter({0.0: 37618, 1.0: 37618})\n"
          ]
        }
      ],
      "source": [
        "import pandas as pd\n",
        "from collections import Counter\n",
        "from imblearn.over_sampling import SMOTE\n",
        "\n",
        "# Loading the creditcard.csv file into a Pandas DataFrame\n",
        "df = pd.read_csv('creditcard.csv')\n",
        "\n",
        "# Checking for NaN values in the target variable 'Class'\n",
        "print(df['Class'].isnull().sum())\n",
        "\n",
        "# Dropping rows with NaN values from the target variable 'Class'\n",
        "df.dropna(subset=['Class'], inplace=True)\n",
        "\n",
        "# Splitting the DataFrame into input features (X) and target variable (Y)\n",
        "X = df.drop('Class', axis=1)\n",
        "Y = df['Class']\n",
        "\n",
        "# Applying SMOTE algorithm for handling the class imbalance\n",
        "s = SMOTE(random_state=42)\n",
        "X_new, Y_new = s.fit_resample(X, Y)\n",
        "\n",
        "print('Original dataset shape %s' % Counter(Y))\n",
        "print('Resampled dataset shape %s' % Counter(Y_new))\n"
      ]
    },
    {
      "cell_type": "code",
      "execution_count": null,
      "metadata": {
        "colab": {
          "background_save": true,
          "base_uri": "https://localhost:8080/"
        },
        "id": "4Fon9-q3p8jb",
        "outputId": "9362e271-1630-4dd2-f71d-16f1f682fcab"
      },
      "outputs": [
        {
          "name": "stdout",
          "output_type": "stream",
          "text": [
            "(75236, 30)\n",
            "(75236,)\n"
          ]
        }
      ],
      "source": [
        "#printing the shape or dimension values\n",
        "print(X_new.shape)\n",
        "print(Y_new.shape)"
      ]
    },
    {
      "cell_type": "code",
      "execution_count": null,
      "metadata": {
        "colab": {
          "background_save": true,
          "base_uri": "https://localhost:8080/",
          "height": 300
        },
        "id": "JQJGznMfqFKk",
        "outputId": "2d08e2bd-b40f-45d5-807c-36f5fbe4e9f4"
      },
      "outputs": [
        {
          "data": {
            "text/html": [
              "\n",
              "  <div id=\"df-0e852c6a-08e1-45b4-90bc-3071cfda9233\">\n",
              "    <div class=\"colab-df-container\">\n",
              "      <div>\n",
              "<style scoped>\n",
              "    .dataframe tbody tr th:only-of-type {\n",
              "        vertical-align: middle;\n",
              "    }\n",
              "\n",
              "    .dataframe tbody tr th {\n",
              "        vertical-align: top;\n",
              "    }\n",
              "\n",
              "    .dataframe thead th {\n",
              "        text-align: right;\n",
              "    }\n",
              "</style>\n",
              "<table border=\"1\" class=\"dataframe\">\n",
              "  <thead>\n",
              "    <tr style=\"text-align: right;\">\n",
              "      <th></th>\n",
              "      <th>Time</th>\n",
              "      <th>V1</th>\n",
              "      <th>V2</th>\n",
              "      <th>V3</th>\n",
              "      <th>V4</th>\n",
              "      <th>V5</th>\n",
              "      <th>V6</th>\n",
              "      <th>V7</th>\n",
              "      <th>V8</th>\n",
              "      <th>V9</th>\n",
              "      <th>...</th>\n",
              "      <th>V20</th>\n",
              "      <th>V21</th>\n",
              "      <th>V22</th>\n",
              "      <th>V23</th>\n",
              "      <th>V24</th>\n",
              "      <th>V25</th>\n",
              "      <th>V26</th>\n",
              "      <th>V27</th>\n",
              "      <th>V28</th>\n",
              "      <th>Amount</th>\n",
              "    </tr>\n",
              "  </thead>\n",
              "  <tbody>\n",
              "    <tr>\n",
              "      <th>0</th>\n",
              "      <td>0.000000</td>\n",
              "      <td>0.897877</td>\n",
              "      <td>0.709039</td>\n",
              "      <td>0.955536</td>\n",
              "      <td>0.357647</td>\n",
              "      <td>0.548342</td>\n",
              "      <td>0.520556</td>\n",
              "      <td>0.423686</td>\n",
              "      <td>0.676242</td>\n",
              "      <td>0.429126</td>\n",
              "      <td>...</td>\n",
              "      <td>0.450213</td>\n",
              "      <td>0.472136</td>\n",
              "      <td>0.616099</td>\n",
              "      <td>0.604796</td>\n",
              "      <td>0.423810</td>\n",
              "      <td>0.585545</td>\n",
              "      <td>0.252126</td>\n",
              "      <td>0.441609</td>\n",
              "      <td>0.627386</td>\n",
              "      <td>0.018989</td>\n",
              "    </tr>\n",
              "    <tr>\n",
              "      <th>1</th>\n",
              "      <td>0.000000</td>\n",
              "      <td>0.976359</td>\n",
              "      <td>0.714914</td>\n",
              "      <td>0.888221</td>\n",
              "      <td>0.306872</td>\n",
              "      <td>0.553567</td>\n",
              "      <td>0.508720</td>\n",
              "      <td>0.418650</td>\n",
              "      <td>0.676021</td>\n",
              "      <td>0.393880</td>\n",
              "      <td>...</td>\n",
              "      <td>0.439867</td>\n",
              "      <td>0.467297</td>\n",
              "      <td>0.552450</td>\n",
              "      <td>0.609604</td>\n",
              "      <td>0.364436</td>\n",
              "      <td>0.588512</td>\n",
              "      <td>0.315687</td>\n",
              "      <td>0.434375</td>\n",
              "      <td>0.629725</td>\n",
              "      <td>0.000341</td>\n",
              "    </tr>\n",
              "    <tr>\n",
              "      <th>2</th>\n",
              "      <td>0.000026</td>\n",
              "      <td>0.897922</td>\n",
              "      <td>0.687071</td>\n",
              "      <td>0.933859</td>\n",
              "      <td>0.303139</td>\n",
              "      <td>0.546180</td>\n",
              "      <td>0.549629</td>\n",
              "      <td>0.432415</td>\n",
              "      <td>0.678665</td>\n",
              "      <td>0.322202</td>\n",
              "      <td>...</td>\n",
              "      <td>0.459044</td>\n",
              "      <td>0.478347</td>\n",
              "      <td>0.650395</td>\n",
              "      <td>0.627950</td>\n",
              "      <td>0.313432</td>\n",
              "      <td>0.550510</td>\n",
              "      <td>0.262218</td>\n",
              "      <td>0.432022</td>\n",
              "      <td>0.624856</td>\n",
              "      <td>0.048057</td>\n",
              "    </tr>\n",
              "    <tr>\n",
              "      <th>3</th>\n",
              "      <td>0.000026</td>\n",
              "      <td>0.909981</td>\n",
              "      <td>0.707090</td>\n",
              "      <td>0.934421</td>\n",
              "      <td>0.235272</td>\n",
              "      <td>0.552644</td>\n",
              "      <td>0.537607</td>\n",
              "      <td>0.423655</td>\n",
              "      <td>0.680775</td>\n",
              "      <td>0.329467</td>\n",
              "      <td>...</td>\n",
              "      <td>0.435381</td>\n",
              "      <td>0.470037</td>\n",
              "      <td>0.597170</td>\n",
              "      <td>0.602983</td>\n",
              "      <td>0.242451</td>\n",
              "      <td>0.625391</td>\n",
              "      <td>0.245505</td>\n",
              "      <td>0.438014</td>\n",
              "      <td>0.632780</td>\n",
              "      <td>0.015674</td>\n",
              "    </tr>\n",
              "    <tr>\n",
              "      <th>4</th>\n",
              "      <td>0.000051</td>\n",
              "      <td>0.904077</td>\n",
              "      <td>0.725515</td>\n",
              "      <td>0.927483</td>\n",
              "      <td>0.304409</td>\n",
              "      <td>0.547439</td>\n",
              "      <td>0.512594</td>\n",
              "      <td>0.429275</td>\n",
              "      <td>0.670238</td>\n",
              "      <td>0.454966</td>\n",
              "      <td>...</td>\n",
              "      <td>0.455286</td>\n",
              "      <td>0.472343</td>\n",
              "      <td>0.652242</td>\n",
              "      <td>0.604184</td>\n",
              "      <td>0.434661</td>\n",
              "      <td>0.559851</td>\n",
              "      <td>0.391635</td>\n",
              "      <td>0.445967</td>\n",
              "      <td>0.642828</td>\n",
              "      <td>0.008883</td>\n",
              "    </tr>\n",
              "  </tbody>\n",
              "</table>\n",
              "<p>5 rows × 30 columns</p>\n",
              "</div>\n",
              "      <button class=\"colab-df-convert\" onclick=\"convertToInteractive('df-0e852c6a-08e1-45b4-90bc-3071cfda9233')\"\n",
              "              title=\"Convert this dataframe to an interactive table.\"\n",
              "              style=\"display:none;\">\n",
              "        \n",
              "  <svg xmlns=\"http://www.w3.org/2000/svg\" height=\"24px\"viewBox=\"0 0 24 24\"\n",
              "       width=\"24px\">\n",
              "    <path d=\"M0 0h24v24H0V0z\" fill=\"none\"/>\n",
              "    <path d=\"M18.56 5.44l.94 2.06.94-2.06 2.06-.94-2.06-.94-.94-2.06-.94 2.06-2.06.94zm-11 1L8.5 8.5l.94-2.06 2.06-.94-2.06-.94L8.5 2.5l-.94 2.06-2.06.94zm10 10l.94 2.06.94-2.06 2.06-.94-2.06-.94-.94-2.06-.94 2.06-2.06.94z\"/><path d=\"M17.41 7.96l-1.37-1.37c-.4-.4-.92-.59-1.43-.59-.52 0-1.04.2-1.43.59L10.3 9.45l-7.72 7.72c-.78.78-.78 2.05 0 2.83L4 21.41c.39.39.9.59 1.41.59.51 0 1.02-.2 1.41-.59l7.78-7.78 2.81-2.81c.8-.78.8-2.07 0-2.86zM5.41 20L4 18.59l7.72-7.72 1.47 1.35L5.41 20z\"/>\n",
              "  </svg>\n",
              "      </button>\n",
              "      \n",
              "  <style>\n",
              "    .colab-df-container {\n",
              "      display:flex;\n",
              "      flex-wrap:wrap;\n",
              "      gap: 12px;\n",
              "    }\n",
              "\n",
              "    .colab-df-convert {\n",
              "      background-color: #E8F0FE;\n",
              "      border: none;\n",
              "      border-radius: 50%;\n",
              "      cursor: pointer;\n",
              "      display: none;\n",
              "      fill: #1967D2;\n",
              "      height: 32px;\n",
              "      padding: 0 0 0 0;\n",
              "      width: 32px;\n",
              "    }\n",
              "\n",
              "    .colab-df-convert:hover {\n",
              "      background-color: #E2EBFA;\n",
              "      box-shadow: 0px 1px 2px rgba(60, 64, 67, 0.3), 0px 1px 3px 1px rgba(60, 64, 67, 0.15);\n",
              "      fill: #174EA6;\n",
              "    }\n",
              "\n",
              "    [theme=dark] .colab-df-convert {\n",
              "      background-color: #3B4455;\n",
              "      fill: #D2E3FC;\n",
              "    }\n",
              "\n",
              "    [theme=dark] .colab-df-convert:hover {\n",
              "      background-color: #434B5C;\n",
              "      box-shadow: 0px 1px 3px 1px rgba(0, 0, 0, 0.15);\n",
              "      filter: drop-shadow(0px 1px 2px rgba(0, 0, 0, 0.3));\n",
              "      fill: #FFFFFF;\n",
              "    }\n",
              "  </style>\n",
              "\n",
              "      <script>\n",
              "        const buttonEl =\n",
              "          document.querySelector('#df-0e852c6a-08e1-45b4-90bc-3071cfda9233 button.colab-df-convert');\n",
              "        buttonEl.style.display =\n",
              "          google.colab.kernel.accessAllowed ? 'block' : 'none';\n",
              "\n",
              "        async function convertToInteractive(key) {\n",
              "          const element = document.querySelector('#df-0e852c6a-08e1-45b4-90bc-3071cfda9233');\n",
              "          const dataTable =\n",
              "            await google.colab.kernel.invokeFunction('convertToInteractive',\n",
              "                                                     [key], {});\n",
              "          if (!dataTable) return;\n",
              "\n",
              "          const docLinkHtml = 'Like what you see? Visit the ' +\n",
              "            '<a target=\"_blank\" href=https://colab.research.google.com/notebooks/data_table.ipynb>data table notebook</a>'\n",
              "            + ' to learn more about interactive tables.';\n",
              "          element.innerHTML = '';\n",
              "          dataTable['output_type'] = 'display_data';\n",
              "          await google.colab.output.renderOutput(dataTable, element);\n",
              "          const docLink = document.createElement('div');\n",
              "          docLink.innerHTML = docLinkHtml;\n",
              "          element.appendChild(docLink);\n",
              "        }\n",
              "      </script>\n",
              "    </div>\n",
              "  </div>\n",
              "  "
            ],
            "text/plain": [
              "       Time        V1        V2        V3        V4        V5        V6  \\\n",
              "0  0.000000  0.897877  0.709039  0.955536  0.357647  0.548342  0.520556   \n",
              "1  0.000000  0.976359  0.714914  0.888221  0.306872  0.553567  0.508720   \n",
              "2  0.000026  0.897922  0.687071  0.933859  0.303139  0.546180  0.549629   \n",
              "3  0.000026  0.909981  0.707090  0.934421  0.235272  0.552644  0.537607   \n",
              "4  0.000051  0.904077  0.725515  0.927483  0.304409  0.547439  0.512594   \n",
              "\n",
              "         V7        V8        V9  ...       V20       V21       V22       V23  \\\n",
              "0  0.423686  0.676242  0.429126  ...  0.450213  0.472136  0.616099  0.604796   \n",
              "1  0.418650  0.676021  0.393880  ...  0.439867  0.467297  0.552450  0.609604   \n",
              "2  0.432415  0.678665  0.322202  ...  0.459044  0.478347  0.650395  0.627950   \n",
              "3  0.423655  0.680775  0.329467  ...  0.435381  0.470037  0.597170  0.602983   \n",
              "4  0.429275  0.670238  0.454966  ...  0.455286  0.472343  0.652242  0.604184   \n",
              "\n",
              "        V24       V25       V26       V27       V28    Amount  \n",
              "0  0.423810  0.585545  0.252126  0.441609  0.627386  0.018989  \n",
              "1  0.364436  0.588512  0.315687  0.434375  0.629725  0.000341  \n",
              "2  0.313432  0.550510  0.262218  0.432022  0.624856  0.048057  \n",
              "3  0.242451  0.625391  0.245505  0.438014  0.632780  0.015674  \n",
              "4  0.434661  0.559851  0.391635  0.445967  0.642828  0.008883  \n",
              "\n",
              "[5 rows x 30 columns]"
            ]
          },
          "execution_count": 158,
          "metadata": {},
          "output_type": "execute_result"
        }
      ],
      "source": [
        "#scaling the features\n",
        "scaler = preprocessing.MinMaxScaler()\n",
        "names = X.columns\n",
        "d = scaler.fit_transform(X_new)\n",
        "scaled_data = pd.DataFrame(d, columns=names)\n",
        "scaled_data.head()\n"
      ]
    },
    {
      "cell_type": "code",
      "execution_count": null,
      "metadata": {
        "colab": {
          "background_save": true,
          "base_uri": "https://localhost:8080/",
          "height": 394
        },
        "id": "D7sbrvRIqGWz",
        "outputId": "f9fb5e7b-2b33-4260-a1c5-68e48aa78b48"
      },
      "outputs": [
        {
          "data": {
            "text/html": [
              "\n",
              "  <div id=\"df-4fc33364-545d-41fa-b4b0-0d3d3608ae8b\">\n",
              "    <div class=\"colab-df-container\">\n",
              "      <div>\n",
              "<style scoped>\n",
              "    .dataframe tbody tr th:only-of-type {\n",
              "        vertical-align: middle;\n",
              "    }\n",
              "\n",
              "    .dataframe tbody tr th {\n",
              "        vertical-align: top;\n",
              "    }\n",
              "\n",
              "    .dataframe thead th {\n",
              "        text-align: right;\n",
              "    }\n",
              "</style>\n",
              "<table border=\"1\" class=\"dataframe\">\n",
              "  <thead>\n",
              "    <tr style=\"text-align: right;\">\n",
              "      <th></th>\n",
              "      <th>Time</th>\n",
              "      <th>V1</th>\n",
              "      <th>V2</th>\n",
              "      <th>V3</th>\n",
              "      <th>V4</th>\n",
              "      <th>V5</th>\n",
              "      <th>V6</th>\n",
              "      <th>V7</th>\n",
              "      <th>V8</th>\n",
              "      <th>V9</th>\n",
              "      <th>...</th>\n",
              "      <th>V20</th>\n",
              "      <th>V21</th>\n",
              "      <th>V22</th>\n",
              "      <th>V23</th>\n",
              "      <th>V24</th>\n",
              "      <th>V25</th>\n",
              "      <th>V26</th>\n",
              "      <th>V27</th>\n",
              "      <th>V28</th>\n",
              "      <th>Amount</th>\n",
              "    </tr>\n",
              "  </thead>\n",
              "  <tbody>\n",
              "    <tr>\n",
              "      <th>count</th>\n",
              "      <td>75236.000000</td>\n",
              "      <td>75236.000000</td>\n",
              "      <td>75236.000000</td>\n",
              "      <td>75236.000000</td>\n",
              "      <td>75236.000000</td>\n",
              "      <td>75236.000000</td>\n",
              "      <td>75236.000000</td>\n",
              "      <td>75236.000000</td>\n",
              "      <td>75236.000000</td>\n",
              "      <td>75236.000000</td>\n",
              "      <td>...</td>\n",
              "      <td>75236.000000</td>\n",
              "      <td>75236.000000</td>\n",
              "      <td>75236.000000</td>\n",
              "      <td>75236.000000</td>\n",
              "      <td>75236.000000</td>\n",
              "      <td>75236.000000</td>\n",
              "      <td>75236.000000</td>\n",
              "      <td>75236.000000</td>\n",
              "      <td>75236.000000</td>\n",
              "      <td>75236.000000</td>\n",
              "    </tr>\n",
              "    <tr>\n",
              "      <th>mean</th>\n",
              "      <td>0.579778</td>\n",
              "      <td>0.811407</td>\n",
              "      <td>0.764765</td>\n",
              "      <td>0.729816</td>\n",
              "      <td>0.452746</td>\n",
              "      <td>0.513277</td>\n",
              "      <td>0.485546</td>\n",
              "      <td>0.354736</td>\n",
              "      <td>0.709515</td>\n",
              "      <td>0.327310</td>\n",
              "      <td>...</td>\n",
              "      <td>0.454331</td>\n",
              "      <td>0.480007</td>\n",
              "      <td>0.580092</td>\n",
              "      <td>0.603328</td>\n",
              "      <td>0.395730</td>\n",
              "      <td>0.594738</td>\n",
              "      <td>0.311242</td>\n",
              "      <td>0.456738</td>\n",
              "      <td>0.633332</td>\n",
              "      <td>0.010024</td>\n",
              "    </tr>\n",
              "    <tr>\n",
              "      <th>std</th>\n",
              "      <td>0.295846</td>\n",
              "      <td>0.240099</td>\n",
              "      <td>0.078908</td>\n",
              "      <td>0.257041</td>\n",
              "      <td>0.196437</td>\n",
              "      <td>0.074436</td>\n",
              "      <td>0.040163</td>\n",
              "      <td>0.099143</td>\n",
              "      <td>0.079934</td>\n",
              "      <td>0.132712</td>\n",
              "      <td>...</td>\n",
              "      <td>0.025046</td>\n",
              "      <td>0.025214</td>\n",
              "      <td>0.054236</td>\n",
              "      <td>0.025303</td>\n",
              "      <td>0.080007</td>\n",
              "      <td>0.062352</td>\n",
              "      <td>0.088041</td>\n",
              "      <td>0.041381</td>\n",
              "      <td>0.031154</td>\n",
              "      <td>0.025621</td>\n",
              "    </tr>\n",
              "    <tr>\n",
              "      <th>min</th>\n",
              "      <td>0.000000</td>\n",
              "      <td>0.000000</td>\n",
              "      <td>0.000000</td>\n",
              "      <td>0.000000</td>\n",
              "      <td>0.000000</td>\n",
              "      <td>0.000000</td>\n",
              "      <td>0.000000</td>\n",
              "      <td>0.000000</td>\n",
              "      <td>0.000000</td>\n",
              "      <td>0.000000</td>\n",
              "      <td>...</td>\n",
              "      <td>0.000000</td>\n",
              "      <td>0.000000</td>\n",
              "      <td>0.000000</td>\n",
              "      <td>0.000000</td>\n",
              "      <td>0.000000</td>\n",
              "      <td>0.000000</td>\n",
              "      <td>0.000000</td>\n",
              "      <td>0.000000</td>\n",
              "      <td>0.000000</td>\n",
              "      <td>0.000000</td>\n",
              "    </tr>\n",
              "    <tr>\n",
              "      <th>25%</th>\n",
              "      <td>0.294617</td>\n",
              "      <td>0.816969</td>\n",
              "      <td>0.711658</td>\n",
              "      <td>0.689548</td>\n",
              "      <td>0.292359</td>\n",
              "      <td>0.510327</td>\n",
              "      <td>0.458519</td>\n",
              "      <td>0.323460</td>\n",
              "      <td>0.673498</td>\n",
              "      <td>0.217270</td>\n",
              "      <td>...</td>\n",
              "      <td>0.439270</td>\n",
              "      <td>0.468559</td>\n",
              "      <td>0.551668</td>\n",
              "      <td>0.599899</td>\n",
              "      <td>0.351842</td>\n",
              "      <td>0.562165</td>\n",
              "      <td>0.245430</td>\n",
              "      <td>0.433862</td>\n",
              "      <td>0.628833</td>\n",
              "      <td>0.000164</td>\n",
              "    </tr>\n",
              "    <tr>\n",
              "      <th>50%</th>\n",
              "      <td>0.679300</td>\n",
              "      <td>0.910759</td>\n",
              "      <td>0.735051</td>\n",
              "      <td>0.857583</td>\n",
              "      <td>0.421778</td>\n",
              "      <td>0.542286</td>\n",
              "      <td>0.490848</td>\n",
              "      <td>0.404565</td>\n",
              "      <td>0.679831</td>\n",
              "      <td>0.357788</td>\n",
              "      <td>...</td>\n",
              "      <td>0.448954</td>\n",
              "      <td>0.476007</td>\n",
              "      <td>0.585198</td>\n",
              "      <td>0.605529</td>\n",
              "      <td>0.413550</td>\n",
              "      <td>0.590068</td>\n",
              "      <td>0.303996</td>\n",
              "      <td>0.443665</td>\n",
              "      <td>0.633781</td>\n",
              "      <td>0.002303</td>\n",
              "    </tr>\n",
              "    <tr>\n",
              "      <th>75%</th>\n",
              "      <td>0.852580</td>\n",
              "      <td>0.961032</td>\n",
              "      <td>0.788858</td>\n",
              "      <td>0.907609</td>\n",
              "      <td>0.608560</td>\n",
              "      <td>0.553873</td>\n",
              "      <td>0.509149</td>\n",
              "      <td>0.420376</td>\n",
              "      <td>0.699953</td>\n",
              "      <td>0.421955</td>\n",
              "      <td>...</td>\n",
              "      <td>0.468624</td>\n",
              "      <td>0.491851</td>\n",
              "      <td>0.614273</td>\n",
              "      <td>0.609915</td>\n",
              "      <td>0.440312</td>\n",
              "      <td>0.624465</td>\n",
              "      <td>0.374478</td>\n",
              "      <td>0.477476</td>\n",
              "      <td>0.652240</td>\n",
              "      <td>0.012309</td>\n",
              "    </tr>\n",
              "    <tr>\n",
              "      <th>max</th>\n",
              "      <td>1.000000</td>\n",
              "      <td>1.000000</td>\n",
              "      <td>1.000000</td>\n",
              "      <td>1.000000</td>\n",
              "      <td>1.000000</td>\n",
              "      <td>1.000000</td>\n",
              "      <td>1.000000</td>\n",
              "      <td>1.000000</td>\n",
              "      <td>1.000000</td>\n",
              "      <td>1.000000</td>\n",
              "      <td>...</td>\n",
              "      <td>1.000000</td>\n",
              "      <td>1.000000</td>\n",
              "      <td>1.000000</td>\n",
              "      <td>1.000000</td>\n",
              "      <td>1.000000</td>\n",
              "      <td>1.000000</td>\n",
              "      <td>1.000000</td>\n",
              "      <td>1.000000</td>\n",
              "      <td>1.000000</td>\n",
              "      <td>1.000000</td>\n",
              "    </tr>\n",
              "  </tbody>\n",
              "</table>\n",
              "<p>8 rows × 30 columns</p>\n",
              "</div>\n",
              "      <button class=\"colab-df-convert\" onclick=\"convertToInteractive('df-4fc33364-545d-41fa-b4b0-0d3d3608ae8b')\"\n",
              "              title=\"Convert this dataframe to an interactive table.\"\n",
              "              style=\"display:none;\">\n",
              "        \n",
              "  <svg xmlns=\"http://www.w3.org/2000/svg\" height=\"24px\"viewBox=\"0 0 24 24\"\n",
              "       width=\"24px\">\n",
              "    <path d=\"M0 0h24v24H0V0z\" fill=\"none\"/>\n",
              "    <path d=\"M18.56 5.44l.94 2.06.94-2.06 2.06-.94-2.06-.94-.94-2.06-.94 2.06-2.06.94zm-11 1L8.5 8.5l.94-2.06 2.06-.94-2.06-.94L8.5 2.5l-.94 2.06-2.06.94zm10 10l.94 2.06.94-2.06 2.06-.94-2.06-.94-.94-2.06-.94 2.06-2.06.94z\"/><path d=\"M17.41 7.96l-1.37-1.37c-.4-.4-.92-.59-1.43-.59-.52 0-1.04.2-1.43.59L10.3 9.45l-7.72 7.72c-.78.78-.78 2.05 0 2.83L4 21.41c.39.39.9.59 1.41.59.51 0 1.02-.2 1.41-.59l7.78-7.78 2.81-2.81c.8-.78.8-2.07 0-2.86zM5.41 20L4 18.59l7.72-7.72 1.47 1.35L5.41 20z\"/>\n",
              "  </svg>\n",
              "      </button>\n",
              "      \n",
              "  <style>\n",
              "    .colab-df-container {\n",
              "      display:flex;\n",
              "      flex-wrap:wrap;\n",
              "      gap: 12px;\n",
              "    }\n",
              "\n",
              "    .colab-df-convert {\n",
              "      background-color: #E8F0FE;\n",
              "      border: none;\n",
              "      border-radius: 50%;\n",
              "      cursor: pointer;\n",
              "      display: none;\n",
              "      fill: #1967D2;\n",
              "      height: 32px;\n",
              "      padding: 0 0 0 0;\n",
              "      width: 32px;\n",
              "    }\n",
              "\n",
              "    .colab-df-convert:hover {\n",
              "      background-color: #E2EBFA;\n",
              "      box-shadow: 0px 1px 2px rgba(60, 64, 67, 0.3), 0px 1px 3px 1px rgba(60, 64, 67, 0.15);\n",
              "      fill: #174EA6;\n",
              "    }\n",
              "\n",
              "    [theme=dark] .colab-df-convert {\n",
              "      background-color: #3B4455;\n",
              "      fill: #D2E3FC;\n",
              "    }\n",
              "\n",
              "    [theme=dark] .colab-df-convert:hover {\n",
              "      background-color: #434B5C;\n",
              "      box-shadow: 0px 1px 3px 1px rgba(0, 0, 0, 0.15);\n",
              "      filter: drop-shadow(0px 1px 2px rgba(0, 0, 0, 0.3));\n",
              "      fill: #FFFFFF;\n",
              "    }\n",
              "  </style>\n",
              "\n",
              "      <script>\n",
              "        const buttonEl =\n",
              "          document.querySelector('#df-4fc33364-545d-41fa-b4b0-0d3d3608ae8b button.colab-df-convert');\n",
              "        buttonEl.style.display =\n",
              "          google.colab.kernel.accessAllowed ? 'block' : 'none';\n",
              "\n",
              "        async function convertToInteractive(key) {\n",
              "          const element = document.querySelector('#df-4fc33364-545d-41fa-b4b0-0d3d3608ae8b');\n",
              "          const dataTable =\n",
              "            await google.colab.kernel.invokeFunction('convertToInteractive',\n",
              "                                                     [key], {});\n",
              "          if (!dataTable) return;\n",
              "\n",
              "          const docLinkHtml = 'Like what you see? Visit the ' +\n",
              "            '<a target=\"_blank\" href=https://colab.research.google.com/notebooks/data_table.ipynb>data table notebook</a>'\n",
              "            + ' to learn more about interactive tables.';\n",
              "          element.innerHTML = '';\n",
              "          dataTable['output_type'] = 'display_data';\n",
              "          await google.colab.output.renderOutput(dataTable, element);\n",
              "          const docLink = document.createElement('div');\n",
              "          docLink.innerHTML = docLinkHtml;\n",
              "          element.appendChild(docLink);\n",
              "        }\n",
              "      </script>\n",
              "    </div>\n",
              "  </div>\n",
              "  "
            ],
            "text/plain": [
              "               Time            V1            V2            V3            V4  \\\n",
              "count  75236.000000  75236.000000  75236.000000  75236.000000  75236.000000   \n",
              "mean       0.579778      0.811407      0.764765      0.729816      0.452746   \n",
              "std        0.295846      0.240099      0.078908      0.257041      0.196437   \n",
              "min        0.000000      0.000000      0.000000      0.000000      0.000000   \n",
              "25%        0.294617      0.816969      0.711658      0.689548      0.292359   \n",
              "50%        0.679300      0.910759      0.735051      0.857583      0.421778   \n",
              "75%        0.852580      0.961032      0.788858      0.907609      0.608560   \n",
              "max        1.000000      1.000000      1.000000      1.000000      1.000000   \n",
              "\n",
              "                 V5            V6            V7            V8            V9  \\\n",
              "count  75236.000000  75236.000000  75236.000000  75236.000000  75236.000000   \n",
              "mean       0.513277      0.485546      0.354736      0.709515      0.327310   \n",
              "std        0.074436      0.040163      0.099143      0.079934      0.132712   \n",
              "min        0.000000      0.000000      0.000000      0.000000      0.000000   \n",
              "25%        0.510327      0.458519      0.323460      0.673498      0.217270   \n",
              "50%        0.542286      0.490848      0.404565      0.679831      0.357788   \n",
              "75%        0.553873      0.509149      0.420376      0.699953      0.421955   \n",
              "max        1.000000      1.000000      1.000000      1.000000      1.000000   \n",
              "\n",
              "       ...           V20           V21           V22           V23  \\\n",
              "count  ...  75236.000000  75236.000000  75236.000000  75236.000000   \n",
              "mean   ...      0.454331      0.480007      0.580092      0.603328   \n",
              "std    ...      0.025046      0.025214      0.054236      0.025303   \n",
              "min    ...      0.000000      0.000000      0.000000      0.000000   \n",
              "25%    ...      0.439270      0.468559      0.551668      0.599899   \n",
              "50%    ...      0.448954      0.476007      0.585198      0.605529   \n",
              "75%    ...      0.468624      0.491851      0.614273      0.609915   \n",
              "max    ...      1.000000      1.000000      1.000000      1.000000   \n",
              "\n",
              "                V24           V25           V26           V27           V28  \\\n",
              "count  75236.000000  75236.000000  75236.000000  75236.000000  75236.000000   \n",
              "mean       0.395730      0.594738      0.311242      0.456738      0.633332   \n",
              "std        0.080007      0.062352      0.088041      0.041381      0.031154   \n",
              "min        0.000000      0.000000      0.000000      0.000000      0.000000   \n",
              "25%        0.351842      0.562165      0.245430      0.433862      0.628833   \n",
              "50%        0.413550      0.590068      0.303996      0.443665      0.633781   \n",
              "75%        0.440312      0.624465      0.374478      0.477476      0.652240   \n",
              "max        1.000000      1.000000      1.000000      1.000000      1.000000   \n",
              "\n",
              "             Amount  \n",
              "count  75236.000000  \n",
              "mean       0.010024  \n",
              "std        0.025621  \n",
              "min        0.000000  \n",
              "25%        0.000164  \n",
              "50%        0.002303  \n",
              "75%        0.012309  \n",
              "max        1.000000  \n",
              "\n",
              "[8 rows x 30 columns]"
            ]
          },
          "execution_count": 159,
          "metadata": {},
          "output_type": "execute_result"
        }
      ],
      "source": [
        "#descriptive statistics for the scaled data\n",
        "scaled_data.describe()"
      ]
    },
    {
      "cell_type": "markdown",
      "metadata": {
        "id": "OhpIIDcdZG31"
      },
      "source": [
        "**Training and Testing Data**"
      ]
    },
    {
      "cell_type": "code",
      "execution_count": null,
      "metadata": {
        "colab": {
          "background_save": true
        },
        "id": "_gHM3tU5qMTi"
      },
      "outputs": [],
      "source": [
        "#splitting the dataset into testing and training sets\n",
        "from sklearn.model_selection import train_test_split\n",
        "X_train, X_test, Y_train, Y_test = train_test_split(X_new, Y_new, test_size = 0.2, random_state = 2)\n"
      ]
    },
    {
      "cell_type": "code",
      "execution_count": null,
      "metadata": {
        "colab": {
          "background_save": true,
          "base_uri": "https://localhost:8080/"
        },
        "id": "OTguE1J1qNgX",
        "outputId": "43f3dbf7-ffa2-4861-feae-6c68f90c60a2"
      },
      "outputs": [
        {
          "name": "stdout",
          "output_type": "stream",
          "text": [
            "(75236, 30) (60188, 30) (15048, 30)\n"
          ]
        }
      ],
      "source": [
        "#shapes of the training and testing sets\n",
        "print(X_new.shape, X_train.shape, X_test.shape)"
      ]
    },
    {
      "cell_type": "code",
      "execution_count": null,
      "metadata": {
        "colab": {
          "background_save": true
        },
        "id": "uMwWh7ooP5fK"
      },
      "outputs": [],
      "source": [
        "# Define ANSI escape sequences for color\n",
        "BLUE = '\\033[94m'\n",
        "RESET = '\\033[0m'\n"
      ]
    },
    {
      "cell_type": "markdown",
      "metadata": {
        "id": "5JoUgmn1Y1IA"
      },
      "source": [
        "**LOGISTIC REGRESSION**"
      ]
    },
    {
      "cell_type": "code",
      "execution_count": null,
      "metadata": {
        "colab": {
          "background_save": true,
          "base_uri": "https://localhost:8080/"
        },
        "id": "NwacmcUvqPnf",
        "outputId": "cec2cc9b-5e84-489e-d37c-99ab970c69f9"
      },
      "outputs": [
        {
          "name": "stdout",
          "output_type": "stream",
          "text": [
            "Accuracy of LogisticRegression model is: \u001b[94m0.9893\u001b[0m\n"
          ]
        }
      ],
      "source": [
        "from sklearn.linear_model import LogisticRegression\n",
        "from sklearn.metrics import accuracy_score\n",
        "\n",
        "lr = LogisticRegression(max_iter=1000)\n",
        "lr.fit(X_train, Y_train)\n",
        "\n",
        "y_pred = lr.predict(X_test)\n",
        "\n",
        "accuracy1 = accuracy_score(Y_test, y_pred)\n",
        "accuracy_text = f\"{accuracy1:.4f}\"\n",
        "\n",
        "print(f\"Accuracy of LogisticRegression model is: {BLUE}{accuracy_text}{RESET}\")\n",
        "\n"
      ]
    },
    {
      "cell_type": "markdown",
      "metadata": {
        "id": "ekQJbod7Ysqt"
      },
      "source": [
        "**NAIVE BAYES MODEL**"
      ]
    },
    {
      "cell_type": "code",
      "execution_count": null,
      "metadata": {
        "colab": {
          "background_save": true,
          "base_uri": "https://localhost:8080/"
        },
        "id": "v4h6nr6lqqGT",
        "outputId": "b9bc4f89-4091-4bf3-f4c4-6b199c4445dc"
      },
      "outputs": [
        {
          "name": "stdout",
          "output_type": "stream",
          "text": [
            "Accuracy of Naive Bayes model is: \u001b[94m0.9632\u001b[0m\n"
          ]
        }
      ],
      "source": [
        "from sklearn.naive_bayes import GaussianNB\n",
        "from sklearn.metrics import accuracy_score\n",
        "\n",
        "nb = GaussianNB()\n",
        "nb.fit(X_train, Y_train)\n",
        "\n",
        "y_pred = nb.predict(X_test)\n",
        "\n",
        "accuracy2 = accuracy_score(Y_test, y_pred)\n",
        "accuracy_text = f\"{accuracy2:.4f}\"\n",
        "\n",
        "print(f\"Accuracy of Naive Bayes model is: {BLUE}{accuracy_text}{RESET}\")\n"
      ]
    },
    {
      "cell_type": "markdown",
      "metadata": {
        "id": "-Z3rlp2AYlH5"
      },
      "source": [
        "**DECISION TREE MODEL**"
      ]
    },
    {
      "cell_type": "code",
      "execution_count": null,
      "metadata": {
        "colab": {
          "background_save": true,
          "base_uri": "https://localhost:8080/"
        },
        "id": "eoPiTRdLqyAF",
        "outputId": "c02eb810-576f-4150-de47-476e906eeac6"
      },
      "outputs": [
        {
          "name": "stdout",
          "output_type": "stream",
          "text": [
            "Accuracy of Decision Tree model is: \u001b[94m0.9985\u001b[0m\n"
          ]
        }
      ],
      "source": [
        "from sklearn.tree import DecisionTreeClassifier\n",
        "from sklearn.metrics import accuracy_score\n",
        "\n",
        "dt = DecisionTreeClassifier(criterion=\"entropy\",random_state=0)\n",
        "dt.fit(X_train, Y_train)\n",
        "\n",
        "y_pred = dt.predict(X_test)\n",
        "\n",
        "accuracy3 = accuracy_score(Y_test, y_pred)\n",
        "accuracy_text = f\"{accuracy3:.4f}\"\n",
        "\n",
        "print(f\"Accuracy of Decision Tree model is: {BLUE}{accuracy_text}{RESET}\")\n",
        "\n"
      ]
    },
    {
      "cell_type": "markdown",
      "metadata": {
        "id": "6vY5bjt4Yayg"
      },
      "source": [
        "**RANDOM FOREST MODEL**"
      ]
    },
    {
      "cell_type": "code",
      "execution_count": null,
      "metadata": {
        "colab": {
          "background_save": true,
          "base_uri": "https://localhost:8080/"
        },
        "id": "G-T1t8BFq7Pb",
        "outputId": "a8d843cc-f9b7-43ed-bcde-66950c6c4780"
      },
      "outputs": [
        {
          "name": "stdout",
          "output_type": "stream",
          "text": [
            "Accuracy of Random Forest model is: \u001b[94m0.9996\u001b[0m\n"
          ]
        }
      ],
      "source": [
        "from sklearn.ensemble import RandomForestClassifier\n",
        "from sklearn.metrics import accuracy_score\n",
        "\n",
        "rf = RandomForestClassifier(n_estimators= 10, criterion=\"entropy\")\n",
        "rf.fit(X_train, Y_train)\n",
        "\n",
        "y_pred = rf.predict(X_test)\n",
        "\n",
        "accuracy4 = accuracy_score(Y_test, y_pred)\n",
        "accuracy_text = f\"{accuracy4:.4f}\"\n",
        "\n",
        "print(f\"Accuracy of Random Forest model is: {BLUE}{accuracy_text}{RESET}\")\n",
        "\n"
      ]
    },
    {
      "cell_type": "markdown",
      "metadata": {
        "id": "PmW425XSYVCZ"
      },
      "source": [
        "**K-NEAREST NEIGHBOR(KNN) MODEL**"
      ]
    },
    {
      "cell_type": "code",
      "execution_count": null,
      "metadata": {
        "colab": {
          "background_save": true
        },
        "id": "LtLdHNEhrFVP",
        "outputId": "0b7012a7-638b-44ee-da36-de6f5c9d4956"
      },
      "outputs": [
        {
          "name": "stdout",
          "output_type": "stream",
          "text": [
            "Accuracy of KNN model is: \u001b[94m0.9755\u001b[0m\n"
          ]
        }
      ],
      "source": [
        "from sklearn.neighbors import KNeighborsClassifier\n",
        "from sklearn.metrics import accuracy_score\n",
        "\n",
        "knn = KNeighborsClassifier(n_neighbors=5)\n",
        "knn.fit(X_train, Y_train)\n",
        "\n",
        "y_pred = knn.predict(X_test)\n",
        "\n",
        "accuracy5 = accuracy_score(Y_test, y_pred)\n",
        "accuracy_text = f\"{accuracy5:.4f}\"\n",
        "\n",
        "print(f\"Accuracy of KNN model is: {BLUE}{accuracy_text}{RESET}\")\n",
        "\n"
      ]
    },
    {
      "cell_type": "markdown",
      "metadata": {
        "id": "zVgFCsiIYCeC"
      },
      "source": [
        "**EXTREME GRADIENT BOOSTING (XGBoost)**"
      ]
    },
    {
      "cell_type": "code",
      "execution_count": null,
      "metadata": {
        "colab": {
          "background_save": true
        },
        "id": "0c9ejO1prYN1",
        "outputId": "2fc3e562-5b34-4cbd-c2b6-c50427361ebe"
      },
      "outputs": [
        {
          "name": "stdout",
          "output_type": "stream",
          "text": [
            "Accuracy of Extreme Gradient Boosting model is: \u001b[94m0.9999\u001b[0m\n"
          ]
        }
      ],
      "source": [
        "import xgboost as xgb\n",
        "from sklearn.metrics import accuracy_score\n",
        "\n",
        "xg_boost = xgb.XGBClassifier(n_estimators=100)\n",
        "\n",
        "xg_boost.fit(X_train, Y_train)\n",
        "\n",
        "y_pred = xg_boost.predict(X_test)\n",
        "\n",
        "accuracy6 = accuracy_score(Y_test, y_pred)\n",
        "accuracy_text = f\"{accuracy6:.4f}\"\n",
        "\n",
        "print(f\"Accuracy of Extreme Gradient Boosting model is: {BLUE}{accuracy_text}{RESET}\")\n"
      ]
    },
    {
      "cell_type": "markdown",
      "metadata": {
        "id": "7yNhWAGyYKiF"
      },
      "source": [
        "**LINEAR DISCRIMINANT ANALYSIS (LDA) MODEL**"
      ]
    },
    {
      "cell_type": "code",
      "execution_count": null,
      "metadata": {
        "colab": {
          "background_save": true
        },
        "id": "eeTsexi7rRB1",
        "outputId": "3d60d155-c743-4143-f996-3b639826ef97"
      },
      "outputs": [
        {
          "name": "stdout",
          "output_type": "stream",
          "text": [
            "Accuracy of Linear Discriminant Analysis model is: \u001b[94m0.9609\u001b[0m\n"
          ]
        }
      ],
      "source": [
        "from sklearn.discriminant_analysis import LinearDiscriminantAnalysis\n",
        "from sklearn.metrics import accuracy_score\n",
        "\n",
        "lda = LinearDiscriminantAnalysis()\n",
        "lda.fit(X_train, Y_train)\n",
        "\n",
        "y_pred = lda.predict(X_test)\n",
        "\n",
        "accuracy7 = accuracy_score(Y_test, y_pred)\n",
        "accuracy_text = f\"{accuracy7:.4f}\"\n",
        "\n",
        "print(f\"Accuracy of Linear Discriminant Analysis model is: {BLUE}{accuracy_text}{RESET}\")\n",
        "\n"
      ]
    },
    {
      "cell_type": "markdown",
      "metadata": {
        "id": "Z4IVeNuVXsKA"
      },
      "source": [
        "**Results**"
      ]
    },
    {
      "cell_type": "code",
      "execution_count": null,
      "metadata": {
        "colab": {
          "background_save": true
        },
        "id": "ub0VIjoWVBnf",
        "outputId": "e170b1b6-de1f-444d-8a6e-e96951e31128"
      },
      "outputs": [
        {
          "name": "stdout",
          "output_type": "stream",
          "text": [
            "                    Model Name Accuracy\n",
            "Serial No                              \n",
            "1                Random Forest   0.9999\n",
            "2                      XGBoost   0.9999\n",
            "3                Decision Tree   0.9995\n",
            "4          Logistic Regression   0.9865\n",
            "5                          KNN   0.9714\n",
            "6                          LDA   0.9609\n",
            "7                  Naive Bayes   0.9525\n"
          ]
        }
      ],
      "source": [
        "#printing all the results\n",
        "import pandas as pd\n",
        "\n",
        "Output = pd.DataFrame({\n",
        "    \"Model Name\": ['Logistic Regression', 'Naive Bayes', 'Decision Tree', 'Random Forest', 'KNN','XGBoost','LDA'],\n",
        "    \"Accuracy\": [accuracy1,accuracy2,accuracy3,accuracy4,accuracy5,accuracy6,accuracy7]\n",
        "})\n",
        "\n",
        "Output['Accuracy'] = Output['Accuracy'].map('{:.4f}'.format)\n",
        "result_df = Output.sort_values(by='Accuracy', ascending=False).reset_index(drop=True)\n",
        "result_df.index = result_df.index + 1\n",
        "result_df.index.name = 'Serial No'\n",
        "\n",
        "print(result_df)\n"
      ]
    }
  ],
  "metadata": {
    "colab": {
      "provenance": []
    },
    "kernelspec": {
      "display_name": "Python 3",
      "name": "python3"
    },
    "language_info": {
      "name": "python"
    }
  },
  "nbformat": 4,
  "nbformat_minor": 0
}